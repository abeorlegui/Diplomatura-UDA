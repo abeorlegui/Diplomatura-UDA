{
  "nbformat": 4,
  "nbformat_minor": 0,
  "metadata": {
    "colab": {
      "name": "Mi primer Colab.ipynb",
      "provenance": [],
      "collapsed_sections": [],
      "authorship_tag": "ABX9TyPw/8Ymz3k9UT/kwdqHblwN",
      "include_colab_link": true
    },
    "kernelspec": {
      "name": "python3",
      "display_name": "Python 3"
    },
    "language_info": {
      "name": "python"
    }
  },
  "cells": [
    {
      "cell_type": "markdown",
      "metadata": {
        "id": "view-in-github",
        "colab_type": "text"
      },
      "source": [
        "<a href=\"https://colab.research.google.com/github/abeorlegui/Diplomatura-UDA/blob/main/Mi_primer_Colab.ipynb\" target=\"_parent\"><img src=\"https://colab.research.google.com/assets/colab-badge.svg\" alt=\"Open In Colab\"/></a>"
      ]
    },
    {
      "cell_type": "code",
      "metadata": {
        "id": "eZvObJpvoGiR"
      },
      "source": [
        "# /content/Análisis de Facturas de Compra.csv\n",
        "# /content/Análisis de Facturas de Venta.csv"
      ],
      "execution_count": null,
      "outputs": []
    }
  ]
}